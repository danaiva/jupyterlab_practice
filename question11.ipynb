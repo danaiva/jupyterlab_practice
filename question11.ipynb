{
 "cells": [
  {
   "cell_type": "markdown",
   "id": "260c702f-1a4c-4aca-9cc8-0552fabe937d",
   "metadata": {},
   "source": []
  }
 ],
 "metadata": {
  "kernelspec": {
   "display_name": "Python [conda env:env_a8]",
   "language": "python",
   "name": "conda-env-env_a8-py"
  },
  "language_info": {
   "codemirror_mode": {
    "name": "ipython",
    "version": 3
   },
   "file_extension": ".py",
   "mimetype": "text/x-python",
   "name": "python",
   "nbconvert_exporter": "python",
   "pygments_lexer": "ipython3",
   "version": "3.12.3"
  }
 },
 "nbformat": 4,
 "nbformat_minor": 5
}
