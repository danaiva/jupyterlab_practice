{
 "cells": [
  {
   "cell_type": "markdown",
   "id": "260c702f-1a4c-4aca-9cc8-0552fabe937d",
   "metadata": {},
   "source": [
    "# Dana Ivancevic\n",
    "\n",
    "Notebook for assignment 7."
   ]
  },
  {
   "cell_type": "code",
   "execution_count": 1,
   "id": "2cf5ff25-dacf-4d3f-8125-298fac0bbbcb",
   "metadata": {},
   "outputs": [
    {
     "data": {
      "text/plain": [
       "5.0"
      ]
     },
     "execution_count": 1,
     "metadata": {},
     "output_type": "execute_result"
    }
   ],
   "source": [
    "# Define a python function called compute_mean to fine the mean of a list of values\n",
    "def compute_mean(values):\n",
    "    for i in values:\n",
    "        x=sum(values)/len(values)\n",
    "    return x\n",
    "\n",
    "compute_mean([2, 4, 6, 8])"
   ]
  },
  {
   "cell_type": "code",
   "execution_count": null,
   "id": "63c6f3e1-2641-442b-b2d2-aa81a3b85e2f",
   "metadata": {},
   "outputs": [],
   "source": [
    "In the code cell above, python function `compute_mean` is define. The function computes the mean of a list using a for loop on a list of values and dividing the sum of the values by the number of values (i.e., the length of the list). The equation used for computing the mean is as follows:\n",
    "\n",
    "\\begin{equation}\n",
    "\\bar{x} = \\frac{x_1+x_2+...+x_n}{n} = \\frac{1}{n}\\left(\\sum^{n}_{i=1}x_i\\right)\n",
    "\\end{equation}\n",
    "\n"
   ]
  }
 ],
 "metadata": {
  "kernelspec": {
   "display_name": "Python [conda env:env_a8]",
   "language": "python",
   "name": "conda-env-env_a8-py"
  },
  "language_info": {
   "codemirror_mode": {
    "name": "ipython",
    "version": 3
   },
   "file_extension": ".py",
   "mimetype": "text/x-python",
   "name": "python",
   "nbconvert_exporter": "python",
   "pygments_lexer": "ipython3",
   "version": "3.12.3"
  }
 },
 "nbformat": 4,
 "nbformat_minor": 5
}
